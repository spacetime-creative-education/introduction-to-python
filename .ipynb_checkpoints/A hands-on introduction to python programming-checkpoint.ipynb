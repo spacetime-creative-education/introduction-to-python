{
 "cells": [
  {
   "cell_type": "code",
   "execution_count": 4,
   "metadata": {
    "collapsed": false,
    "slideshow": {
     "slide_type": "skip"
    }
   },
   "outputs": [],
   "source": [
    "path = \"C:/Program Files/Miniconda3/etc/jupyter/nbconfig\"\n",
    "from traitlets.config.manager import BaseJSONConfigManager\n",
    "# path = \"/home/damian/miniconda3/envs/rise_latest/etc/jupyter/nbconfig\"\n",
    "cm = BaseJSONConfigManager(config_dir=path)\n",
    "cm.update('livereveal', {\n",
    "              'theme': 'sky',\n",
    "              'transition': 'zoom',\n",
    "              'start_slideshow_at': 'selected',\n",
    "})\n",
    "\n",
    "%matplotlib notebook"
   ]
  },
  {
   "cell_type": "markdown",
   "metadata": {
    "slideshow": {
     "slide_type": "slide"
    }
   },
   "source": [
    "## Welcome to the introduction to python class\n",
    "\n",
    "I am Prashanth. Coding is my super power. I speak python.\n",
    "\n",
    "![parser-tongue](img/parser-tongue.png)"
   ]
  },
  {
   "cell_type": "markdown",
   "metadata": {
    "slideshow": {
     "slide_type": "notes"
    }
   },
   "source": [
    "Through the course of the next 2 hours I would like to explore with you the following topics"
   ]
  },
  {
   "cell_type": "markdown",
   "metadata": {
    "slideshow": {
     "slide_type": "slide"
    }
   },
   "source": [
    "Today we would be exploring questions like:\n",
    "    1. What do programmers do?\n",
    "    2. Why python?\n",
    "    3. What do people use python for?\n",
    "    4. How do I setup python in my device?\n",
    "    5. Can I write any cool piece of code in just 10 mins into python? *I am bloody sure you can*"
   ]
  },
  {
   "cell_type": "markdown",
   "metadata": {
    "collapsed": true,
    "slideshow": {
     "slide_type": "slide"
    }
   },
   "source": [
    "Some other questions like:\n",
    "    1. How to install and manage libraries?\n",
    "    2. Do programmers have social networks and communities?\n",
    "    3. Where can I do python? you can \"Do\" pythonanywhere\n",
    "    4. Would you showcase some of your works? :smile: Only because you insist :heart:"
   ]
  },
  {
   "cell_type": "markdown",
   "metadata": {
    "collapsed": true,
    "slideshow": {
     "slide_type": "slide"
    }
   },
   "source": [
    "## What do Programmers do?"
   ]
  },
  {
   "cell_type": "code",
   "execution_count": 2,
   "metadata": {
    "collapsed": false,
    "slideshow": {
     "slide_type": "notes"
    }
   },
   "outputs": [
    {
     "ename": "SyntaxError",
     "evalue": "invalid syntax (<ipython-input-2-8df184ffbdaf>, line 1)",
     "output_type": "error",
     "traceback": [
      "\u001b[0;36m  File \u001b[0;32m\"<ipython-input-2-8df184ffbdaf>\"\u001b[0;36m, line \u001b[0;32m1\u001b[0m\n\u001b[0;31m    In this century, Programming is a basic skill like reading and writing. Programmers accomplish a lot of things by developing and maintaining software\u001b[0m\n\u001b[0m          ^\u001b[0m\n\u001b[0;31mSyntaxError\u001b[0m\u001b[0;31m:\u001b[0m invalid syntax\n"
     ]
    }
   ],
   "source": [
    "In this century, Programming is a basic skill like reading and writing. Programmers accomplish a lot of things by developing and maintaining software"
   ]
  },
  {
   "cell_type": "markdown",
   "metadata": {
    "slideshow": {
     "slide_type": "slide"
    }
   },
   "source": [
    "- Develop and maintain software (duh!)\n",
    "    - Websites\n",
    "    - Apps\n",
    "    - Data science, statistical tools\n",
    "    - Games\n",
    "    - Most products nowadays has a digital side to it, so that.\n",
    "    - Music, and other digital art"
   ]
  },
  {
   "cell_type": "markdown",
   "metadata": {
    "collapsed": true,
    "slideshow": {
     "slide_type": "slide"
    }
   },
   "source": [
    "## Why python?"
   ]
  },
  {
   "cell_type": "markdown",
   "metadata": {
    "slideshow": {
     "slide_type": "slide"
    }
   },
   "source": [
    "- Python scripts are generally highly readable\n",
    "    - There is not much syntactic overhead\n",
    "    - Intendation and [PEP8](https://www.python.org/dev/peps/pep-0008/) guidelines contribute to the beauty (Will show you in a minute)\n",
    "- Has an awesome community and clear philosophy behind it\n",
    "- It is a great language to kickstart programming\n",
    "- Many universities around the world are moving their CS courses to Python due to its simplicity\n",
    "- Python programmers get hired easily"
   ]
  },
  {
   "cell_type": "code",
   "execution_count": null,
   "metadata": {
    "collapsed": false,
    "slideshow": {
     "slide_type": "slide"
    }
   },
   "outputs": [],
   "source": [
    "## Are Python scripts really that readable?\n",
    "\n",
    "username = 'bruce'\n",
    "password = 'batman'\n",
    "\n",
    "if password is 'batman':\n",
    "    print(\"Welcome to the Wayne manor Mr.\" + username)\n",
    "else:\n",
    "    print(\"Hello impostor. Batman's waiting for you\")"
   ]
  },
  {
   "cell_type": "code",
   "execution_count": null,
   "metadata": {
    "collapsed": false,
    "slideshow": {
     "slide_type": "slide"
    }
   },
   "outputs": [],
   "source": [
    "## Are Python scripts really that readable?\n",
    "\n",
    "grocery_list = ['Eggs', 'Butter', 'Bread',]\n",
    "\n",
    "for item in grocery_list:\n",
    "    print('Adding ' + item + ' to the bill')\n",
    "    "
   ]
  },
  {
   "cell_type": "markdown",
   "metadata": {
    "slideshow": {
     "slide_type": "slide"
    }
   },
   "source": [
    "### If that is not enough reasons to dive into python, here are some cool products, and services that is written in python\n",
    "\n",
    "\n"
   ]
  },
  {
   "cell_type": "markdown",
   "metadata": {
    "slideshow": {
     "slide_type": "slide"
    }
   },
   "source": [
    "![python-companies](img/python-companies.png)"
   ]
  },
  {
   "cell_type": "markdown",
   "metadata": {
    "slideshow": {
     "slide_type": "notes"
    }
   },
   "source": [
    "1. The Dropbox desktop client is written entirely in Python, which speaks to its cross-platform compatibility\n",
    "2. Early on at Google, there was an engineering decision to use “Python where we can, C++ where we must.” Python was used for parts that required rapid delivery and maintenance. \n"
   ]
  },
  {
   "cell_type": "markdown",
   "metadata": {
    "slideshow": {
     "slide_type": "slide"
    }
   },
   "source": [
    "[python success stories](https://www.python.org/about/success)"
   ]
  },
  {
   "cell_type": "markdown",
   "metadata": {
    "collapsed": true,
    "slideshow": {
     "slide_type": "slide"
    }
   },
   "source": [
    "## What do people use python for?"
   ]
  },
  {
   "cell_type": "markdown",
   "metadata": {
    "slideshow": {
     "slide_type": "slide"
    }
   },
   "source": [
    "### Web development\n",
    "\n",
    "One of the major use of python is web development. Some of the popular web framework in python are:\n",
    "    1. [Django](https://www.djangoproject.com/) - Websites/Apps like Pinterest, Instagram, Disqus, NatGeo\n",
    "    2, [Flask](http://flask.pocoo.org/) - Its a microframework that makes developing websites fun and easy. [Here](http://flask.pocoo.org/community/poweredby/) are apps/websites powered by flask"
   ]
  },
  {
   "cell_type": "markdown",
   "metadata": {
    "slideshow": {
     "slide_type": "slide"
    }
   },
   "source": [
    "### Visualization\n",
    "\n",
    "Engineers , Statisticians, Researchers, Businessmen, Designers use visualizations. Good visualization = good show.\n",
    "    1. [Matplotlib](http://matplotlib.org/) - Real easy plotting, animation and we can even make a movie of our visualizations\n",
    "    2, [Bokeh](http://bokeh.pydata.org/en/latest/docs/gallery/texas.html)"
   ]
  },
  {
   "cell_type": "markdown",
   "metadata": {
    "slideshow": {
     "slide_type": "slide"
    }
   },
   "source": [
    "### Statistics and Engineering tools\n",
    "\n",
    "If you have ever used tools like Matlab, R or Mathematica, python has a rich set of tools that give a similar or sometimes better experience to these tools.\n",
    "    1. [Numpy](http://www.numpy.org/) - Along with scipy, and matplotlib, the amazing trio\n",
    "    2. [Scipy](https://www.scipy.org/)"
   ]
  },
  {
   "cell_type": "code",
   "execution_count": 3,
   "metadata": {
    "collapsed": false,
    "slideshow": {
     "slide_type": "slide"
    }
   },
   "outputs": [
    {
     "ename": "ImportError",
     "evalue": "No module named 'scipy'",
     "output_type": "error",
     "traceback": [
      "\u001b[0;31m---------------------------------------------------------------------------\u001b[0m",
      "\u001b[0;31mImportError\u001b[0m                               Traceback (most recent call last)",
      "\u001b[0;32m<ipython-input-3-dbc894bb79e4>\u001b[0m in \u001b[0;36m<module>\u001b[0;34m()\u001b[0m\n\u001b[0;32m----> 1\u001b[0;31m \u001b[1;32mfrom\u001b[0m \u001b[0mscipy\u001b[0m\u001b[1;33m.\u001b[0m\u001b[0msignal\u001b[0m \u001b[1;32mimport\u001b[0m \u001b[0margrelmax\u001b[0m\u001b[1;33m\u001b[0m\u001b[0m\n\u001b[0m\u001b[1;32m      2\u001b[0m \u001b[1;32mimport\u001b[0m \u001b[0mnumpy\u001b[0m \u001b[1;32mas\u001b[0m \u001b[0mnp\u001b[0m\u001b[1;33m\u001b[0m\u001b[0m\n\u001b[1;32m      3\u001b[0m \u001b[1;32mimport\u001b[0m \u001b[0mmatplotlib\u001b[0m\u001b[1;33m.\u001b[0m\u001b[0mpyplot\u001b[0m \u001b[1;32mas\u001b[0m \u001b[0mplt\u001b[0m\u001b[1;33m\u001b[0m\u001b[0m\n\u001b[1;32m      4\u001b[0m \u001b[1;33m\u001b[0m\u001b[0m\n\u001b[1;32m      5\u001b[0m \u001b[1;32mif\u001b[0m \u001b[0m__name__\u001b[0m \u001b[1;33m==\u001b[0m \u001b[1;34m\"__main__\"\u001b[0m\u001b[1;33m:\u001b[0m\u001b[1;33m\u001b[0m\u001b[0m\n",
      "\u001b[0;31mImportError\u001b[0m: No module named 'scipy'"
     ]
    }
   ],
   "source": [
    "from scipy.signal import argrelmax\n",
    "import numpy as np\n",
    "import matplotlib.pyplot as plt\n",
    "\n",
    "if __name__ == \"__main__\":\n",
    "    t = np.linspace(0, 30*np.pi, 1000)\n",
    "    y = [np.sin(x) for x in t]\n",
    "    print(y)\n",
    "\n",
    "    z = argrelmax(np.array(y))\n",
    "    t_z = [t[i] for i in z]\n",
    "    print(t_z)\n",
    "    plt.plot(t, y)\n",
    "    plt.vlines(t_z, -1, 1, colors=\"r\")\n",
    "plt.show()"
   ]
  },
  {
   "cell_type": "markdown",
   "metadata": {
    "slideshow": {
     "slide_type": "slide"
    }
   },
   "source": [
    "## Image processing\n",
    "\n",
    "Instagram or snapchat filters, all that comes from image processing and You can make them in a few lines of code.\n",
    "    1. [PIL](http://www.pythonware.com/products/pil/) - Python imaging library"
   ]
  },
  {
   "cell_type": "code",
   "execution_count": 4,
   "metadata": {
    "collapsed": false
   },
   "outputs": [
    {
     "ename": "ImportError",
     "evalue": "No module named 'Image'",
     "output_type": "error",
     "traceback": [
      "\u001b[0;31m---------------------------------------------------------------------------\u001b[0m",
      "\u001b[0;31mImportError\u001b[0m                               Traceback (most recent call last)",
      "\u001b[0;32m<ipython-input-4-e2cc1e534171>\u001b[0m in \u001b[0;36m<module>\u001b[0;34m()\u001b[0m\n\u001b[0;32m----> 1\u001b[0;31m \u001b[1;32mimport\u001b[0m \u001b[0mImage\u001b[0m\u001b[1;33m\u001b[0m\u001b[0m\n\u001b[0m",
      "\u001b[0;31mImportError\u001b[0m: No module named 'Image'"
     ]
    }
   ],
   "source": [
    "from matplotlib.pyplot import plt\n",
    "\n",
    "try:\n",
    "    import Image, ImageFilter\n",
    "except ImportError:\n",
    "    from PIL import Image, ImageFilter\n",
    "\n",
    "plt.ion()\n",
    "try:\n",
    "    # Load an image from the hard drive\n",
    "    original = Image.open(\"Lenna.png\")\n",
    "\n",
    "    # Blur the image\n",
    "    blurred = original.filter(ImageFilter.BLUR)\n",
    "    \n",
    "    # Display both images\n",
    "    display = plt.imshow(original)\n",
    "    \n",
    "    input(\"Press enter to display blurred image\")\n",
    "    \n",
    "    display.set_data(blurred)\n",
    "    plt.draw()\n",
    "    \n",
    "    # save the new image\n",
    "    blurred.save(\"img/blurred.png\")\n",
    "\n",
    "except:\n",
    "    print \"Unable to load image\""
   ]
  },
  {
   "cell_type": "markdown",
   "metadata": {
    "slideshow": {
     "slide_type": "slide"
    }
   },
   "source": [
    "### Data science\n",
    "\n",
    "Siri, or Google now. Imfact all google searches have a Machine learning influence to them. This is where skynet starts\n",
    "\n",
    "1. [scikit-learn](http://scikit-learn.org/stable/) - You want machines to take decisions, you code with this. \n",
    "2. [Tensorflow]() - Deep neural network. This course wouldn't explore this, but be aware this is what makes self driving cars possible, you can make models that predict stock markets to considerable accuracy with this, or you can make [this](https://deeparteffects.com/)"
   ]
  },
  {
   "cell_type": "markdown",
   "metadata": {
    "slideshow": {
     "slide_type": "slide"
    }
   },
   "source": [
    "### Gaming\n",
    "\n",
    "Yup you can make games with python. Kinda good ones.\n",
    "\n",
    "1. [pygame](http://www.pygame.org/hifi.html)"
   ]
  },
  {
   "cell_type": "markdown",
   "metadata": {
    "collapsed": false,
    "slideshow": {
     "slide_type": "slide"
    }
   },
   "source": [
    "[Minecraft game clone](code/Minecraft/main.py)"
   ]
  },
  {
   "cell_type": "markdown",
   "metadata": {
    "slideshow": {
     "slide_type": "slide"
    }
   },
   "source": [
    "### GUI Applications\n",
    "\n",
    "If you want to make rich applications that has a nice user interface then python gives you a lot of options to choose from.\n",
    "\n",
    "1. [Hitchhikers guide to python - GUI Applications](http://docs.python-guide.org/en/latest/scenarios/gui/)"
   ]
  },
  {
   "cell_type": "markdown",
   "metadata": {
    "slideshow": {
     "slide_type": "slide"
    }
   },
   "source": [
    "## Are you convinced that python is going to be useful to you?\n",
    "\n",
    "If you were not convinced before signing up for this course, I wish you are convinced atleast now. :D\n",
    "\n",
    "![python_aliens](img/memes/python_aliens.jpg)"
   ]
  },
  {
   "cell_type": "markdown",
   "metadata": {
    "slideshow": {
     "slide_type": "slide"
    }
   },
   "source": [
    "## Let's get hands-on"
   ]
  },
  {
   "cell_type": "markdown",
   "metadata": {
    "collapsed": true,
    "slideshow": {
     "slide_type": "subslide"
    }
   },
   "source": [
    "## Let's get hands-on\n",
    "\n",
    "### How to setup python in your device?"
   ]
  },
  {
   "cell_type": "markdown",
   "metadata": {
    "slideshow": {
     "slide_type": "slide"
    }
   },
   "source": [
    "### 1. Download python from Anaconda [Miniconda](http://conda.pydata.org/miniconda.html)\n",
    "### 2. Setup Miniconda\n",
    "### 3. Open a `terminal` or `command prompt` and type `python`. If things went right, you should see `>>> `\n",
    "\n",
    "```\n",
    "Python 3.5.2 |Continuum Analytics, Inc.| (default, Jul  5 2016, 11:41:13) [MSC v\n",
    ".1900 64 bit (AMD64)] on win32\n",
    "Type \"help\", \"copyright\", \"credits\" or \"license\" for more information.\n",
    ">>>\n",
    "```"
   ]
  },
  {
   "cell_type": "markdown",
   "metadata": {},
   "source": [
    "```\n",
    ">>> 2+2\n",
    ">>> "
   ]
  },
  {
   "cell_type": "markdown",
   "metadata": {
    "slideshow": {
     "slide_type": "slide"
    }
   },
   "source": [
    "![dont_reinvent_the_wheel](img/memes/dont_reinvent_the_wheel.jpg)"
   ]
  },
  {
   "cell_type": "code",
   "execution_count": null,
   "metadata": {
    "collapsed": false,
    "slideshow": {
     "slide_type": "slide"
    }
   },
   "outputs": [],
   "source": [
    "## Import statment, Stand on the shoulders of Giants\n",
    "\n",
    "import math\n",
    "print(math.pi)"
   ]
  },
  {
   "cell_type": "markdown",
   "metadata": {
    "slideshow": {
     "slide_type": "notes"
    }
   },
   "source": [
    "## References:\n",
    "1. https://www.codeschool.com/blog/2016/01/27/why-python/ "
   ]
  },
  {
   "cell_type": "code",
   "execution_count": null,
   "metadata": {
    "collapsed": false
   },
   "outputs": [],
   "source": [
    "# https://github.com/grantjenks/free_python_games/blob/master/guess.py\n",
    "import random\n",
    "\n",
    "start = 0\n",
    "end = 100\n",
    "value = ## Generate a random number from 1 to 100\n",
    "\n",
    "print(\"I'm thinking of a number between\", start, 'and', end)\n",
    "\n",
    "guess = None\n",
    "\n",
    "while guess != value:\n",
    "\n",
    "    try:\n",
    "        guess = int(input('Guess the number: '))\n",
    "    except Exception:\n",
    "        print('Whoops! Be sure the number contains only digits.')\n",
    "        continue\n",
    "    \n",
    "    ## Write a logic that says if the guess is Higher or Lower than the secret number\n",
    "\n",
    "print('Congratulations! You guessed the right answer:', value)"
   ]
  },
  {
   "cell_type": "code",
   "execution_count": null,
   "metadata": {
    "collapsed": true
   },
   "outputs": [],
   "source": []
  }
 ],
 "metadata": {
  "celltoolbar": "Slideshow",
  "kernelspec": {
   "display_name": "Python 3",
   "language": "python",
   "name": "python3"
  },
  "language_info": {
   "codemirror_mode": {
    "name": "ipython",
    "version": 3
   },
   "file_extension": ".py",
   "mimetype": "text/x-python",
   "name": "python",
   "nbconvert_exporter": "python",
   "pygments_lexer": "ipython3",
   "version": "3.5.2"
  }
 },
 "nbformat": 4,
 "nbformat_minor": 0
}
