{
 "cells": [
  {
   "cell_type": "code",
   "execution_count": 13,
   "metadata": {
    "collapsed": false,
    "slideshow": {
     "slide_type": "skip"
    }
   },
   "outputs": [
    {
     "data": {
      "text/plain": [
       "{'leap_motion': {'naturalSwipe': True,\n",
       "  'pointerColor': '#d80000',\n",
       "  'pointerOpacity': 0.5},\n",
       " 'start_slideshow_at': 'selected',\n",
       " 'theme': 'sky',\n",
       " 'transition': 'zoom'}"
      ]
     },
     "execution_count": 13,
     "metadata": {},
     "output_type": "execute_result"
    }
   ],
   "source": [
    "from traitlets.config.manager import BaseJSONConfigManager\n",
    "path = \"C:/Program Files/Miniconda3/etc/jupyter/nbconfig\"\n",
    "cm = BaseJSONConfigManager(config_dir=path)\n",
    "cm.update('livereveal', {\n",
    "              'theme': 'sky',\n",
    "              'transition': 'zoom',\n",
    "              'start_slideshow_at': 'selected',\n",
    "                'leap_motion': {\n",
    "                'naturalSwipe'  : True,     # Invert swipe gestures\n",
    "                'pointerOpacity': 0.5,      # Set pointer opacity to 0.5\n",
    "                'pointerColor'  : '#d80000',# Red pointer\n",
    "            }\n",
    "})\n",
    "cm.update('livereveal', {\n",
    "    \n",
    "})"
   ]
  },
  {
   "cell_type": "markdown",
   "metadata": {
    "slideshow": {
     "slide_type": "slide"
    }
   },
   "source": [
    "## Welcome to the introduction to python class\n",
    "\n",
    "I am Prashanth. Coding is my super power. I speak python.\n",
    "\n",
    "![parser-tongue](img/parser-tongue.png)"
   ]
  },
  {
   "cell_type": "markdown",
   "metadata": {
    "slideshow": {
     "slide_type": "notes"
    }
   },
   "source": [
    "Through the course of the next 2 hours I would like to explore with you the following topics"
   ]
  },
  {
   "cell_type": "markdown",
   "metadata": {
    "slideshow": {
     "slide_type": "slide"
    }
   },
   "source": [
    "Today we would be exploring questions like:\n",
    "    1. What do programmers do?\n",
    "    2. Why python?\n",
    "    3. What do people use python for?\n",
    "    4. How do I setup python in my device?\n",
    "    5. Can I write any cool piece of code in just 10 mins into python? *I am bloody sure you can*"
   ]
  },
  {
   "cell_type": "markdown",
   "metadata": {
    "collapsed": true,
    "slideshow": {
     "slide_type": "slide"
    }
   },
   "source": [
    "Some other questions like:\n",
    "    1. How to install and manage libraries?\n",
    "    2. Do programmers have social networks and communities?\n",
    "    3. Where can I do python? you can \"Do\" pythonanywhere\n",
    "    4. Would you showcase some of your works? :smile: Only because you insist :heart:"
   ]
  },
  {
   "cell_type": "markdown",
   "metadata": {
    "collapsed": true,
    "slideshow": {
     "slide_type": "slide"
    }
   },
   "source": [
    "## What do Programmers do?"
   ]
  },
  {
   "cell_type": "code",
   "execution_count": null,
   "metadata": {
    "collapsed": true,
    "slideshow": {
     "slide_type": "notes"
    }
   },
   "outputs": [],
   "source": [
    "In this century, Programming is a basic skill like reading and writing. Programmers accomplish a lot of things by developing and maintaining software"
   ]
  },
  {
   "cell_type": "markdown",
   "metadata": {
    "slideshow": {
     "slide_type": "slide"
    }
   },
   "source": [
    "- Develop and maintain software (duh!)\n",
    "    - Websites\n",
    "    - Apps\n",
    "    - Data science, statistical tools\n",
    "    - Games\n",
    "    - Most products nowadays has a digital side to it, so that.\n",
    "    - Music, and other digital art"
   ]
  },
  {
   "cell_type": "markdown",
   "metadata": {
    "collapsed": true,
    "slideshow": {
     "slide_type": "slide"
    }
   },
   "source": [
    "## Why python?"
   ]
  },
  {
   "cell_type": "markdown",
   "metadata": {
    "slideshow": {
     "slide_type": "slide"
    }
   },
   "source": [
    "- Python scripts are generally highly readable\n",
    "    - There is not much syntactic overhead\n",
    "    - Intendation and PEP8 guidelines contribute to the beauty (Will show you in a minute)\n",
    "- Has an awesome community and clear philosophy behind it\n",
    "- It is a great language to kickstart programming\n",
    "- Many universities around the world are moving their CS courses to Python due to its simplicity\n",
    "- Python programmers get hired easily"
   ]
  },
  {
   "cell_type": "code",
   "execution_count": 11,
   "metadata": {
    "collapsed": false,
    "slideshow": {
     "slide_type": "slide"
    }
   },
   "outputs": [
    {
     "name": "stdout",
     "output_type": "stream",
     "text": [
      "Welcome to the Wayne manor Mr.bruce\n"
     ]
    }
   ],
   "source": [
    "## Are Python scripts really that readable?\n",
    "\n",
    "username = 'bruce'\n",
    "password = 'batman'\n",
    "\n",
    "if password is 'batman':\n",
    "    print(\"Welcome to the Wayne manor Mr.\" + username)\n",
    "else:\n",
    "    print(\"Hello impostor. Batman's waiting for you\")"
   ]
  },
  {
   "cell_type": "code",
   "execution_count": 3,
   "metadata": {
    "collapsed": false,
    "slideshow": {
     "slide_type": "slide"
    }
   },
   "outputs": [
    {
     "name": "stdout",
     "output_type": "stream",
     "text": [
      "Adding Eggs to the bill\n",
      "Adding Butter to the bill\n",
      "Adding Bread to the bill\n"
     ]
    }
   ],
   "source": [
    "## Are Python scripts really that readable?\n",
    "\n",
    "grocery_list = ['Eggs', 'Butter', 'Bread',]\n",
    "\n",
    "for item in grocery_list:\n",
    "    print('Adding ' + item + ' to the bill')\n",
    "    "
   ]
  },
  {
   "cell_type": "code",
   "execution_count": 3,
   "metadata": {
    "collapsed": false,
    "slideshow": {
     "slide_type": "slide"
    }
   },
   "outputs": [
    {
     "name": "stdout",
     "output_type": "stream",
     "text": [
      "Adding Eggs to the bill\n",
      "Adding Butter to the bill\n",
      "Adding Bread to the bill\n"
     ]
    }
   ],
   "source": [
    "## Are Python scripts really that readable?\n",
    "\n",
    "grocery_list = ['Eggs', 'Butter', 'Bread']\n",
    "\n",
    "for item in grocery_list:\n",
    "    print('Adding ' + item + ' to the bill')\n",
    "    "
   ]
  },
  {
   "cell_type": "markdown",
   "metadata": {
    "slideshow": {
     "slide_type": "slide"
    }
   },
   "source": [
    "### If that is not enough reasons to dive into python, here are some cool products, and services that is written in python\n",
    "\n",
    "\n"
   ]
  },
  {
   "cell_type": "markdown",
   "metadata": {
    "slideshow": {
     "slide_type": "slide"
    }
   },
   "source": [
    "![python-companies](img/python-companies.png)\n",
    "\n",
    "\n"
   ]
  },
  {
   "cell_type": "markdown",
   "metadata": {
    "slideshow": {
     "slide_type": "notes"
    }
   },
   "source": [
    "1. The Dropbox desktop client is written entirely in Python, which speaks to its cross-platform compatibility\n",
    "2. Early on at Google, there was an engineering decision to use “Python where we can, C++ where we must.” Python was used for parts that required rapid delivery and maintenance. \n"
   ]
  },
  {
   "cell_type": "markdown",
   "metadata": {
    "collapsed": true,
    "slideshow": {
     "slide_type": "slide"
    }
   },
   "source": [
    "## What do people use python for?"
   ]
  },
  {
   "cell_type": "markdown",
   "metadata": {
    "slideshow": {
     "slide_type": "slide"
    }
   },
   "source": [
    "### Web development\n",
    "\n",
    "One of the major use of python is web development. Some of the popular web framework in python are:\n",
    "    1. [Django](https://www.djangoproject.com/) - Websites/Apps like Pinterest, Instagram, Disqus, NatGeo\n",
    "    2, [Flask](http://flask.pocoo.org/) - Its a microframework that makes developing websites fun and easy. [Here](http://flask.pocoo.org/community/poweredby/) are apps/websites powered by flask"
   ]
  },
  {
   "cell_type": "markdown",
   "metadata": {
    "slideshow": {
     "slide_type": "slide"
    }
   },
   "source": [
    "### Visualization\n",
    "\n",
    "Engineers , Statisticians, Researchers, Businessmen, Designers use visualizations. Good visualization = good show.\n",
    "    1. [Matplotlib](http://matplotlib.org/) - Real easy plotting, animation and we can even make a movie of our visualizations\n",
    "    2, [Bokeh](http://bokeh.pydata.org/en/latest/docs/gallery/texas.html)"
   ]
  },
  {
   "cell_type": "markdown",
   "metadata": {
    "slideshow": {
     "slide_type": "slide"
    }
   },
   "source": [
    "### Statistics and Engineering tools\n",
    "\n",
    "If you have ever used tools like Matlab, R or Mathematica, python has a rich set of tools that give a similar or sometimes better experience to these tools.\n",
    "    1. [Numpy](http://www.numpy.org/) - Along with scipy, and matplotlib, the amazing trio\n",
    "    2. [Scipy]()"
   ]
  },
  {
   "cell_type": "markdown",
   "metadata": {
    "slideshow": {
     "slide_type": "slide"
    }
   },
   "source": [
    "## Image processing\n",
    "\n",
    "Instagram or snapchat filters, all that comes from image processing and You can make them in a few lines of code.\n",
    "    1. [PIL](http://www.pythonware.com/products/pil/) - Python imaging library"
   ]
  },
  {
   "cell_type": "markdown",
   "metadata": {},
   "source": [
    "### Data science\n",
    "\n",
    "Siri, or Google now. Imfact all google searches have a Machine learning influence to them. This is where skynet starts\n",
    "\n",
    "1. [scikit-learn](http://scikit-learn.org/stable/) - You want machines to take decisions, you code with this. \n",
    "2. [Tensorflow]() - Deep neural network. This course wouldn't explore this, but be aware this is what makes self driving cars possible, you can make models that predict stock markets to considerable accuracy with this, or you can make [this](https://deeparteffects.com/)"
   ]
  },
  {
   "cell_type": "markdown",
   "metadata": {
    "collapsed": false,
    "slideshow": {
     "slide_type": "slide"
    }
   },
   "source": [
    "[Minecraft game clone](code/Minecraft/main.py)"
   ]
  },
  {
   "cell_type": "markdown",
   "metadata": {},
   "source": [
    "![dont_reinvent_the_wheel](img/memes/dont_reinvent_the_wheel.jpg)"
   ]
  },
  {
   "cell_type": "code",
   "execution_count": 10,
   "metadata": {
    "collapsed": false,
    "slideshow": {
     "slide_type": "slide"
    }
   },
   "outputs": [
    {
     "name": "stdout",
     "output_type": "stream",
     "text": [
      "3.141592653589793\n"
     ]
    }
   ],
   "source": [
    "## Import statment, Stand on the shoulders of Giants\n",
    "\n",
    "import math\n",
    "print(math.pi)"
   ]
  },
  {
   "cell_type": "markdown",
   "metadata": {
    "slideshow": {
     "slide_type": "notes"
    }
   },
   "source": [
    "## References:\n",
    "1. https://www.codeschool.com/blog/2016/01/27/why-python/ "
   ]
  },
  {
   "cell_type": "code",
   "execution_count": 7,
   "metadata": {
    "collapsed": false
   },
   "outputs": [
    {
     "name": "stdout",
     "output_type": "stream",
     "text": [
      "I'm thinking of a number between 0 and 100\n",
      "Guess the number: 25\n",
      "Higher.\n",
      "Guess the number: 74\n",
      "Lower.\n",
      "Guess the number: 50\n",
      "Higher.\n",
      "Guess the number: 65\n",
      "Higher.\n",
      "Guess the number: 70\n",
      "Lower.\n",
      "Guess the number: 67\n",
      "Higher.\n",
      "Guess the number: 69\n",
      "Congratulations! You guessed the right answer: 69\n"
     ]
    }
   ],
   "source": [
    "\n",
    "import random\n",
    "\n",
    "start = 0\n",
    "end = 100\n",
    "value = random.randint(start, end)\n",
    "\n",
    "print(\"I'm thinking of a number between\", start, 'and', end)\n",
    "\n",
    "guess = None\n",
    "\n",
    "while guess != value:\n",
    "\n",
    "    try:\n",
    "        guess = int(input('Guess the number: '))\n",
    "    except Exception:\n",
    "        print('Whoops! Be sure the number contains only digits.')\n",
    "        continue\n",
    "\n",
    "    if guess < value:\n",
    "\n",
    "        print('Higher.')\n",
    "\n",
    "    elif guess > value:\n",
    "\n",
    "        print('Lower.')\n",
    "\n",
    "print('Congratulations! You guessed the right answer:', value)"
   ]
  },
  {
   "cell_type": "code",
   "execution_count": null,
   "metadata": {
    "collapsed": true
   },
   "outputs": [],
   "source": []
  }
 ],
 "metadata": {
  "celltoolbar": "Slideshow",
  "kernelspec": {
   "display_name": "Python 3",
   "language": "python",
   "name": "python3"
  },
  "language_info": {
   "codemirror_mode": {
    "name": "ipython",
    "version": 3
   },
   "file_extension": ".py",
   "mimetype": "text/x-python",
   "name": "python",
   "nbconvert_exporter": "python",
   "pygments_lexer": "ipython3",
   "version": "3.5.2"
  }
 },
 "nbformat": 4,
 "nbformat_minor": 0
}
