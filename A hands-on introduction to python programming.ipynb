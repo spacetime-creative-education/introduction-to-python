{
 "cells": [
  {
   "cell_type": "code",
   "execution_count": null,
   "metadata": {
    "ExecuteTime": {
     "end_time": "2016-12-07T17:41:41.682408",
     "start_time": "2016-12-07T17:41:39.835793"
    },
    "collapsed": true,
    "slideshow": {
     "slide_type": "skip"
    }
   },
   "outputs": [],
   "source": [
    "# path = \"C:/Program Files/Miniconda3/etc/jupyter/nbconfig\"\n",
    "from traitlets.config.manager import BaseJSONConfigManager\n",
    "path = \"/home/prashanth/miniconda3/etc/jupyter/nbconfig\"\n",
    "cm = BaseJSONConfigManager(config_dir=path)\n",
    "cm.update('livereveal', {\n",
    "              'theme': 'sky',\n",
    "              'transition': 'zoom',\n",
    "              'start_slideshow_at': 'selected',\n",
    "})\n",
    "\n",
    "%matplotlib notebook"
   ]
  },
  {
   "cell_type": "markdown",
   "metadata": {
    "slideshow": {
     "slide_type": "slide"
    }
   },
   "source": [
    "## Welcome to the introduction to python class\n",
    "\n",
    "I am Prashanth. Coding is my super power. I speak python.\n",
    "\n",
    "![parser-tongue](img/parser-tongue.png)"
   ]
  },
  {
   "cell_type": "markdown",
   "metadata": {
    "slideshow": {
     "slide_type": "notes"
    }
   },
   "source": [
    "Through the course of the next 2 hours I would like to explore with you the following topics"
   ]
  },
  {
   "cell_type": "markdown",
   "metadata": {
    "slideshow": {
     "slide_type": "slide"
    }
   },
   "source": [
    "Today we would be exploring questions like:\n",
    "    1. What do programmers do?\n",
    "    2. Why python?\n",
    "    3. What do people use python for?\n",
    "    4. How do I setup python in my device?\n",
    "    5. Can I write any cool piece of code in just 10 mins into python? *I am bloody sure you can*"
   ]
  },
  {
   "cell_type": "markdown",
   "metadata": {
    "collapsed": true,
    "slideshow": {
     "slide_type": "slide"
    }
   },
   "source": [
    "Some other questions like:\n",
    "    1. How to install and manage libraries?\n",
    "    2. Do programmers have social networks and communities?\n",
    "    3. Where can I do python? you can \"Do\" pythonanywhere\n",
    "    4. Would you showcase some of your works? :smile: Only because you insist :heart:"
   ]
  },
  {
   "cell_type": "markdown",
   "metadata": {
    "collapsed": true,
    "slideshow": {
     "slide_type": "slide"
    }
   },
   "source": [
    "## What do Programmers do?"
   ]
  },
  {
   "cell_type": "code",
   "execution_count": null,
   "metadata": {
    "ExecuteTime": {
     "end_time": "2016-12-07T17:41:41.689358",
     "start_time": "2016-12-07T17:41:41.684675"
    },
    "collapsed": true,
    "slideshow": {
     "slide_type": "notes"
    }
   },
   "outputs": [],
   "source": [
    "In this century, Programming is a basic skill like reading and writing. Programmers accomplish a lot of things by developing and maintaining software"
   ]
  },
  {
   "cell_type": "markdown",
   "metadata": {
    "slideshow": {
     "slide_type": "slide"
    }
   },
   "source": [
    "- Develop and maintain software (duh!)\n",
    "    - Websites\n",
    "    - Apps\n",
    "    - Data science, statistical tools\n",
    "    - Games\n",
    "    - Most products nowadays has a digital side to it, so that.\n",
    "    - Music, and other digital art"
   ]
  },
  {
   "cell_type": "markdown",
   "metadata": {
    "collapsed": true,
    "slideshow": {
     "slide_type": "slide"
    }
   },
   "source": [
    "## Why python?"
   ]
  },
  {
   "cell_type": "markdown",
   "metadata": {
    "slideshow": {
     "slide_type": "slide"
    }
   },
   "source": [
    "- Python scripts are generally highly readable\n",
    "    - There is not much syntactic overhead\n",
    "    - Intendation and [PEP8](https://www.python.org/dev/peps/pep-0008/) guidelines contribute to the beauty (Will show you in a minute)\n",
    "- Has an awesome community and clear philosophy behind it\n",
    "- It is a great language to kickstart programming\n",
    "- Many universities around the world are moving their CS courses to Python due to its simplicity\n",
    "- Python programmers get hired easily"
   ]
  },
  {
   "cell_type": "code",
   "execution_count": 2,
   "metadata": {
    "ExecuteTime": {
     "end_time": "2016-12-07T17:51:20.540729",
     "start_time": "2016-12-07T17:51:20.529943"
    },
    "slideshow": {
     "slide_type": "slide"
    }
   },
   "outputs": [
    {
     "name": "stdout",
     "output_type": "stream",
     "text": [
      "Hello impostor. Batman's waiting for you\n"
     ]
    }
   ],
   "source": [
    "## Are Python scripts really that readable?\n",
    "\n",
    "username = 'bruce'\n",
    "password = 'joker'\n",
    "\n",
    "if password is 'batman':\n",
    "    print(\"Welcome to the Wayne manor Mr.\" + username)\n",
    "else:\n",
    "    print(\"Hello impostor. Batman's waiting for you\")"
   ]
  },
  {
   "cell_type": "code",
   "execution_count": 7,
   "metadata": {
    "ExecuteTime": {
     "end_time": "2016-12-07T17:58:16.041111",
     "start_time": "2016-12-07T17:58:16.029696"
    },
    "slideshow": {
     "slide_type": "slide"
    }
   },
   "outputs": [
    {
     "name": "stdout",
     "output_type": "stream",
     "text": [
      "Adding Eggs to the bill\n",
      "Adding Butter to the bill\n",
      "Adding Bread to the bill\n",
      "Added\n"
     ]
    }
   ],
   "source": [
    "## Are Python scripts really that readable?\n",
    "\n",
    "grocery_list = ['Eggs', 'Butter', 'Bread',]\n",
    "\n",
    "for product in grocery_list:\n",
    "    print('Adding ' + product + ' to the bill')\n",
    "\n",
    "print('Added')"
   ]
  },
  {
   "cell_type": "markdown",
   "metadata": {
    "slideshow": {
     "slide_type": "slide"
    }
   },
   "source": [
    "### If that is not enough reasons to dive into python, here are some cool products, and services that is written in python\n",
    "\n",
    "\n"
   ]
  },
  {
   "cell_type": "markdown",
   "metadata": {
    "slideshow": {
     "slide_type": "slide"
    }
   },
   "source": [
    "![python-companies](img/python-companies.png)"
   ]
  },
  {
   "cell_type": "markdown",
   "metadata": {
    "slideshow": {
     "slide_type": "notes"
    }
   },
   "source": [
    "1. The Dropbox desktop client is written entirely in Python, which speaks to its cross-platform compatibility\n",
    "2. Early on at Google, there was an engineering decision to use “Python where we can, C++ where we must.” Python was used for parts that required rapid delivery and maintenance. \n"
   ]
  },
  {
   "cell_type": "markdown",
   "metadata": {
    "slideshow": {
     "slide_type": "slide"
    }
   },
   "source": [
    "[python success stories](https://www.python.org/about/success)"
   ]
  },
  {
   "cell_type": "markdown",
   "metadata": {
    "collapsed": true,
    "slideshow": {
     "slide_type": "slide"
    }
   },
   "source": [
    "## What do people use python for?\n",
    "\n",
    "[Add a slide to all the following topics]"
   ]
  },
  {
   "cell_type": "markdown",
   "metadata": {
    "slideshow": {
     "slide_type": "slide"
    }
   },
   "source": [
    "### Web development\n",
    "\n",
    "One of the major use of python is web development. Some of the popular web framework in python are:\n",
    "\n",
    "    1. [Django](https://www.djangoproject.com/) - Websites/Apps like Pinterest, Instagram, Disqus, NatGeo\n",
    "    2, [Flask](http://flask.pocoo.org/) - Its a microframework that makes developing websites fun and easy. [Here](http://flask.pocoo.org/community/poweredby/) are apps/websites powered by flask"
   ]
  },
  {
   "cell_type": "markdown",
   "metadata": {
    "slideshow": {
     "slide_type": "slide"
    }
   },
   "source": [
    "### Visualization\n",
    "\n",
    "Engineers , Statisticians, Researchers, Businessmen, Designers use visualizations. Good visualization = good show.\n",
    "    1. [Matplotlib](http://matplotlib.org/) - Real easy plotting, animation and we can even make a movie of our visualizations\n",
    "    2, [Bokeh](http://bokeh.pydata.org/en/latest/docs/gallery/texas.html)"
   ]
  },
  {
   "cell_type": "markdown",
   "metadata": {
    "slideshow": {
     "slide_type": "slide"
    }
   },
   "source": [
    "### Statistics and Engineering tools\n",
    "\n",
    "If you have ever used tools like Matlab, R or Mathematica, python has a rich set of tools that give a similar or sometimes better experience to these tools.\n",
    "    1. [Numpy](http://www.numpy.org/) - Along with scipy, and matplotlib, the amazing trio\n",
    "    2. [Scipy](https://www.scipy.org/)"
   ]
  },
  {
   "cell_type": "code",
   "execution_count": 9,
   "metadata": {
    "ExecuteTime": {
     "end_time": "2016-12-07T18:30:47.208359",
     "start_time": "2016-12-07T18:30:47.019346"
    },
    "slideshow": {
     "slide_type": "slide"
    }
   },
   "outputs": [
    {
     "data": {
      "image/png": "[encoded data removed]",
      "text/plain": [
       "<matplotlib.figure.Figure at 0x7f44f80bfb00>"
      ]
     },
     "metadata": {},
     "output_type": "display_data"
    }
   ],
   "source": [
    "from scipy.signal import argrelmax\n",
    "import numpy as np\n",
    "import matplotlib.pyplot as plt\n",
    "\n",
    "if __name__ == \"__main__\":\n",
    "    t = np.linspace(0, 30*np.pi, 1000)\n",
    "    y = [np.sin(x) for x in t]\n",
    "    \n",
    "\n",
    "    z = argrelmax(np.array(y))\n",
    "    t_z = [t[i] for i in z]\n",
    "    \n",
    "    plt.plot(t, y)\n",
    "    plt.vlines(t_z, -1, 1, colors=\"r\")\n",
    "plt.show()"
   ]
  },
  {
   "cell_type": "markdown",
   "metadata": {
    "slideshow": {
     "slide_type": "slide"
    }
   },
   "source": [
    "## Image processing\n",
    "\n",
    "Instagram or snapchat filters, all that comes from image processing and You can make them in a few lines of code.\n",
    "    1. [PIL](http://www.pythonware.com/products/pil/) - Python imaging library"
   ]
  },
  {
   "cell_type": "code",
   "execution_count": 13,
   "metadata": {
    "ExecuteTime": {
     "end_time": "2016-12-07T18:35:46.439818",
     "start_time": "2016-12-07T18:35:46.422963"
    },
    "slideshow": {
     "slide_type": "slide"
    }
   },
   "outputs": [
    {
     "ename": "ImportError",
     "evalue": "cannot import name 'plt'",
     "traceback": [
      "\u001b[0;31m---------------------------------------------------------------------------\u001b[0m",
      "\u001b[0;31mImportError\u001b[0m                               Traceback (most recent call last)",
      "\u001b[0;32m<ipython-input-13-0b1252e43844>\u001b[0m in \u001b[0;36m<module>\u001b[0;34m()\u001b[0m\n\u001b[0;32m----> 1\u001b[0;31m \u001b[0;32mfrom\u001b[0m \u001b[0mmatplotlib\u001b[0m\u001b[0;34m.\u001b[0m\u001b[0mpyplot\u001b[0m \u001b[0;32mimport\u001b[0m \u001b[0mplt\u001b[0m\u001b[0;34m\u001b[0m\u001b[0m\n\u001b[0m\u001b[1;32m      2\u001b[0m \u001b[0;34m\u001b[0m\u001b[0m\n\u001b[1;32m      3\u001b[0m \u001b[0;32mtry\u001b[0m\u001b[0;34m:\u001b[0m\u001b[0;34m\u001b[0m\u001b[0m\n\u001b[1;32m      4\u001b[0m     \u001b[0;32mimport\u001b[0m \u001b[0mImage\u001b[0m\u001b[0;34m,\u001b[0m \u001b[0mImageFilter\u001b[0m\u001b[0;34m\u001b[0m\u001b[0m\n\u001b[1;32m      5\u001b[0m \u001b[0;32mexcept\u001b[0m \u001b[0mImportError\u001b[0m\u001b[0;34m:\u001b[0m\u001b[0;34m\u001b[0m\u001b[0m\n",
      "\u001b[0;31mImportError\u001b[0m: cannot import name 'plt'"
     ],
     "output_type": "error"
    }
   ],
   "source": [
    "from matplotlib.pyplot import plt\n",
    "\n",
    "try:\n",
    "    import Image, ImageFilter\n",
    "except ImportError:\n",
    "    from PIL import Image, ImageFilter\n",
    "\n",
    "plt.ion()\n",
    "try:\n",
    "    # Load an image from the hard drive\n",
    "    original = Image.open(\"img/lena.png\")\n",
    "\n",
    "    # Blur the image\n",
    "    blurred = original.filter(ImageFilter.BLUR)\n",
    "    \n",
    "    # Display both images\n",
    "    display = plt.imshow(original)\n",
    "    \n",
    "    input(\"Press enter to display blurred image\")\n",
    "    \n",
    "    display.set_data(blurred)\n",
    "    plt.draw()\n",
    "    \n",
    "    # save the new image\n",
    "    blurred.save(\"img/blurred.png\")\n",
    "\n",
    "except:\n",
    "    print(\"Unable to load image\")"
   ]
  },
  {
   "cell_type": "markdown",
   "metadata": {
    "slideshow": {
     "slide_type": "slide"
    }
   },
   "source": [
    "### Data science\n",
    "\n",
    "Siri, or Google now. Imfact all google searches have a Machine learning influence to them. This is where skynet starts\n",
    "\n",
    "1. [scikit-learn](http://scikit-learn.org/stable/) - You want machines to take decisions, you code with this. \n",
    "2. [Tensorflow]() - Deep neural network. This course wouldn't explore this, but be aware this is what makes self driving cars possible, you can make models that predict stock markets to considerable accuracy with this, or you can make [this](https://deeparteffects.com/)"
   ]
  },
  {
   "cell_type": "markdown",
   "metadata": {
    "slideshow": {
     "slide_type": "slide"
    }
   },
   "source": [
    "### Gaming\n",
    "\n",
    "Yup you can make games with python. Kinda good ones.\n",
    "\n",
    "1. [pygame](http://www.pygame.org/hifi.html)"
   ]
  },
  {
   "cell_type": "markdown",
   "metadata": {
    "slideshow": {
     "slide_type": "slide"
    }
   },
   "source": [
    "[Minecraft game clone](code/Minecraft/main.py)"
   ]
  },
  {
   "cell_type": "markdown",
   "metadata": {
    "slideshow": {
     "slide_type": "slide"
    }
   },
   "source": [
    "### GUI Applications\n",
    "\n",
    "If you want to make rich applications that has a nice user interface then python gives you a lot of options to choose from.\n",
    "\n",
    "1. [Hitchhikers guide to python - GUI Applications](http://docs.python-guide.org/en/latest/scenarios/gui/)"
   ]
  },
  {
   "cell_type": "markdown",
   "metadata": {
    "slideshow": {
     "slide_type": "slide"
    }
   },
   "source": [
    "## Are you convinced that python is going to be useful to you?\n",
    "\n",
    "If you were not convinced before signing up for this course, I wish you are convinced atleast now. :D\n",
    "\n",
    "![python_aliens](img/memes/python_aliens.jpg)"
   ]
  },
  {
   "cell_type": "markdown",
   "metadata": {
    "slideshow": {
     "slide_type": "slide"
    }
   },
   "source": [
    "## Let's get hands-on"
   ]
  },
  {
   "cell_type": "markdown",
   "metadata": {
    "collapsed": true,
    "slideshow": {
     "slide_type": "subslide"
    }
   },
   "source": [
    "## Let's get hands-on\n",
    "\n",
    "### How to setup python in your device?"
   ]
  },
  {
   "cell_type": "markdown",
   "metadata": {
    "slideshow": {
     "slide_type": "slide"
    }
   },
   "source": [
    "### 1. Download python from Anaconda [Miniconda](http://conda.pydata.org/miniconda.html)\n",
    "### 2. Setup Miniconda\n",
    "### 3. Open a `terminal` or `command prompt` and type `python`. If things went right, you should see `>>> `\n",
    "\n",
    "```\n",
    "Python 3.5.2 |Continuum Analytics, Inc.| (default, Jul  5 2016, 11:41:13) [MSC v\n",
    ".1900 64 bit (AMD64)] on win32\n",
    "Type \"help\", \"copyright\", \"credits\" or \"license\" for more information.\n",
    ">>>\n",
    "```"
   ]
  },
  {
   "cell_type": "markdown",
   "metadata": {
    "slideshow": {
     "slide_type": "slide"
    }
   },
   "source": [
    "## Regular math operations in REPL (Read-eval-print-loop), more commonly called Prompt"
   ]
  },
  {
   "cell_type": "code",
   "execution_count": null,
   "metadata": {
    "ExecuteTime": {
     "end_time": "2016-12-07T17:41:41.691548",
     "start_time": "2016-12-07T12:11:39.884Z"
    },
    "collapsed": true,
    "slideshow": {
     "slide_type": "subslide"
    }
   },
   "outputs": [],
   "source": [
    "2 * 3"
   ]
  },
  {
   "cell_type": "code",
   "execution_count": null,
   "metadata": {
    "ExecuteTime": {
     "end_time": "2016-12-07T17:41:41.691950",
     "start_time": "2016-12-07T12:11:39.887Z"
    },
    "collapsed": true,
    "slideshow": {
     "slide_type": "subslide"
    }
   },
   "outputs": [],
   "source": [
    "2+2"
   ]
  },
  {
   "cell_type": "code",
   "execution_count": null,
   "metadata": {
    "ExecuteTime": {
     "end_time": "2016-12-07T17:41:41.692517",
     "start_time": "2016-12-07T12:11:39.889Z"
    },
    "collapsed": true,
    "slideshow": {
     "slide_type": "subslide"
    }
   },
   "outputs": [],
   "source": [
    "1.3 + 4.65"
   ]
  },
  {
   "cell_type": "code",
   "execution_count": null,
   "metadata": {
    "ExecuteTime": {
     "end_time": "2016-12-07T17:41:41.692917",
     "start_time": "2016-12-07T12:11:39.891Z"
    },
    "collapsed": true,
    "slideshow": {
     "slide_type": "subslide"
    }
   },
   "outputs": [],
   "source": [
    "4 - 2"
   ]
  },
  {
   "cell_type": "code",
   "execution_count": null,
   "metadata": {
    "ExecuteTime": {
     "end_time": "2016-12-07T17:41:41.693317",
     "start_time": "2016-12-07T12:11:39.894Z"
    },
    "collapsed": true,
    "slideshow": {
     "slide_type": "subslide"
    }
   },
   "outputs": [],
   "source": [
    "2 * 3"
   ]
  },
  {
   "cell_type": "code",
   "execution_count": null,
   "metadata": {
    "ExecuteTime": {
     "end_time": "2016-12-07T17:41:41.693711",
     "start_time": "2016-12-07T12:11:39.897Z"
    },
    "collapsed": true,
    "slideshow": {
     "slide_type": "subslide"
    }
   },
   "outputs": [],
   "source": [
    "4 / 2"
   ]
  },
  {
   "cell_type": "code",
   "execution_count": null,
   "metadata": {
    "ExecuteTime": {
     "end_time": "2016-12-07T17:41:41.694164",
     "start_time": "2016-12-07T12:11:39.898Z"
    },
    "collapsed": true,
    "slideshow": {
     "slide_type": "subslide"
    }
   },
   "outputs": [],
   "source": [
    "3 / 2"
   ]
  },
  {
   "cell_type": "markdown",
   "metadata": {
    "slideshow": {
     "slide_type": "slide"
    }
   },
   "source": [
    "### special division"
   ]
  },
  {
   "cell_type": "code",
   "execution_count": null,
   "metadata": {
    "ExecuteTime": {
     "end_time": "2016-12-07T17:41:41.694552",
     "start_time": "2016-12-07T12:11:39.900Z"
    },
    "collapsed": true,
    "slideshow": {
     "slide_type": "subslide"
    }
   },
   "outputs": [],
   "source": [
    "3 // 2    # floored division (figure out an example use case)"
   ]
  },
  {
   "cell_type": "markdown",
   "metadata": {
    "slideshow": {
     "slide_type": "slide"
    }
   },
   "source": [
    "### Parenthesis and order of operations follows typical math"
   ]
  },
  {
   "cell_type": "code",
   "execution_count": 14,
   "metadata": {
    "ExecuteTime": {
     "end_time": "2016-12-07T19:21:03.413052",
     "start_time": "2016-12-07T19:21:03.407195"
    },
    "slideshow": {
     "slide_type": "subslide"
    }
   },
   "outputs": [
    {
     "data": {
      "text/plain": [
       "15.0"
      ]
     },
     "execution_count": 14,
     "metadata": {},
     "output_type": "execute_result"
    }
   ],
   "source": [
    "(3 + 2) * 6 / 2"
   ]
  },
  {
   "cell_type": "code",
   "execution_count": 15,
   "metadata": {
    "ExecuteTime": {
     "end_time": "2016-12-07T19:21:03.926968",
     "start_time": "2016-12-07T19:21:03.923432"
    },
    "collapsed": true,
    "slideshow": {
     "slide_type": "subslide"
    }
   },
   "outputs": [],
   "source": [
    "x = 3    # assignment"
   ]
  },
  {
   "cell_type": "code",
   "execution_count": 18,
   "metadata": {
    "ExecuteTime": {
     "end_time": "2016-12-07T19:21:51.529709",
     "start_time": "2016-12-07T19:21:51.523862"
    },
    "slideshow": {
     "slide_type": "subslide"
    }
   },
   "outputs": [
    {
     "data": {
      "text/plain": [
       "27"
      ]
     },
     "execution_count": 18,
     "metadata": {},
     "output_type": "execute_result"
    }
   ],
   "source": [
    "x * 3 * 3"
   ]
  },
  {
   "cell_type": "code",
   "execution_count": 22,
   "metadata": {
    "ExecuteTime": {
     "end_time": "2016-12-07T19:24:18.200868",
     "start_time": "2016-12-07T19:24:18.194067"
    }
   },
   "outputs": [
    {
     "data": {
      "text/plain": [
       "81"
      ]
     },
     "execution_count": 22,
     "metadata": {},
     "output_type": "execute_result"
    }
   ],
   "source": [
    "x ** 2"
   ]
  },
  {
   "cell_type": "code",
   "execution_count": 21,
   "metadata": {
    "ExecuteTime": {
     "end_time": "2016-12-07T19:23:57.803305",
     "start_time": "2016-12-07T19:23:57.795381"
    },
    "slideshow": {
     "slide_type": "subslide"
    }
   },
   "outputs": [
    {
     "data": {
      "text/plain": [
       "35"
      ]
     },
     "execution_count": 21,
     "metadata": {},
     "output_type": "execute_result"
    }
   ],
   "source": [
    "_ + 4    # _ holds the last executed ans"
   ]
  },
  {
   "cell_type": "code",
   "execution_count": 23,
   "metadata": {
    "ExecuteTime": {
     "end_time": "2016-12-07T19:28:20.955041",
     "start_time": "2016-12-07T19:28:20.947287"
    },
    "slideshow": {
     "slide_type": "slide"
    }
   },
   "outputs": [
    {
     "data": {
      "text/plain": [
       "str"
      ]
     },
     "execution_count": 23,
     "metadata": {},
     "output_type": "execute_result"
    }
   ],
   "source": [
    "## Dynamic typed language\n",
    "\n",
    "movie_title = \"Rushamon\"\n",
    "\n",
    "## unlike C or Java where you explicitly declare a variable's 'type'\n",
    "\n",
    "type(movie_title)"
   ]
  },
  {
   "cell_type": "code",
   "execution_count": 24,
   "metadata": {
    "ExecuteTime": {
     "end_time": "2016-12-07T19:28:46.572857",
     "start_time": "2016-12-07T19:28:46.562553"
    },
    "slideshow": {
     "slide_type": "slide"
    }
   },
   "outputs": [
    {
     "data": {
      "text/plain": [
       "int"
      ]
     },
     "execution_count": 24,
     "metadata": {},
     "output_type": "execute_result"
    }
   ],
   "source": [
    "## Dynamic typed language\n",
    "\n",
    "door_number = 24\n",
    "\n",
    "## unlike C or Java where you explicitly declare a variable's 'type'\n",
    "\n",
    "type(door_number)"
   ]
  },
  {
   "cell_type": "markdown",
   "metadata": {
    "slideshow": {
     "slide_type": "slide"
    }
   },
   "source": [
    "**Concatenating strings**"
   ]
  },
  {
   "cell_type": "markdown",
   "metadata": {
    "slideshow": {
     "slide_type": "slide"
    }
   },
   "source": [
    "**Making choices**"
   ]
  },
  {
   "cell_type": "code",
   "execution_count": null,
   "metadata": {
    "ExecuteTime": {
     "end_time": "2016-12-07T17:41:41.697397",
     "start_time": "2016-12-07T12:11:39.915Z"
    },
    "collapsed": true
   },
   "outputs": [],
   "source": [
    "**Lets solve some problems**\n",
    "\n",
    "[problems](https://wiki.python.org/moin/ProblemSets)"
   ]
  },
  {
   "cell_type": "code",
   "execution_count": null,
   "metadata": {
    "ExecuteTime": {
     "end_time": "2016-12-07T17:41:41.697788",
     "start_time": "2016-12-07T12:11:39.917Z"
    },
    "collapsed": true,
    "slideshow": {
     "slide_type": "slide"
    }
   },
   "outputs": [],
   "source": [
    "## Dynamic typed language\n",
    "\n",
    "movie_title = \"Rushamon\"\n",
    "\n",
    "## unlike C or Java where you explicitly declare a variable's 'type'\n",
    "\n",
    "type(movie_title)"
   ]
  },
  {
   "cell_type": "markdown",
   "metadata": {
    "slideshow": {
     "slide_type": "slide"
    }
   },
   "source": [
    "### Python files"
   ]
  },
  {
   "cell_type": "markdown",
   "metadata": {
    "slideshow": {
     "slide_type": "slide"
    }
   },
   "source": [
    "### Python files\n",
    "\n",
    "* Python code is usually stored in text files with the file ending \"`.py`\":\n",
    "\n",
    "        myprogram.py\n",
    "\n",
    "* To run our Python program from the command line we use:\n",
    "\n",
    "        $ python myprogram.py\n",
    "\n",
    "* On UNIX systems it is common to define the path to the interpreter on the first line of the program. This is called the `shebang` line.\n",
    "\n",
    "        #!/usr/bin/env python\n",
    "\n",
    "  shebang helps us to additionally set the file script to be executable, we can run the program like this:\n",
    "\n",
    "        $ myprogram.py\n",
    "  \n",
    "  Not a big value addition, but something that pleases our lazy side."
   ]
  },
  {
   "cell_type": "markdown",
   "metadata": {
    "slideshow": {
     "slide_type": "slide"
    }
   },
   "source": [
    "### Character encoding"
   ]
  },
  {
   "cell_type": "markdown",
   "metadata": {
    "slideshow": {
     "slide_type": "slide"
    }
   },
   "source": [
    "### Character encoding\n",
    "\n",
    "The standard character encoding is ASCII, but we can use any other encoding, for example UTF-8. To specify that UTF-8 is used we include the special line\n",
    "\n",
    "    # -*- coding: UTF-8 -*-\n",
    "\n",
    "at the top of the file."
   ]
  },
  {
   "cell_type": "code",
   "execution_count": null,
   "metadata": {
    "ExecuteTime": {
     "end_time": "2016-12-07T17:41:41.698181",
     "start_time": "2016-12-07T12:11:39.921Z"
    },
    "collapsed": true
   },
   "outputs": [],
   "source": [
    "from IPython.display import YouTubeVideo\n",
    "# a tutorial about Python at PyCon 2014 in Montreal, Canada by Jessica McKellar\n",
    "# Credit: William Stein.\n",
    "YouTubeVideo('MirG-vJOg04')"
   ]
  },
  {
   "cell_type": "code",
   "execution_count": null,
   "metadata": {
    "ExecuteTime": {
     "end_time": "2016-12-07T17:41:41.698566",
     "start_time": "2016-12-07T12:11:39.922Z"
    },
    "collapsed": true
   },
   "outputs": [],
   "source": [
    "from IPython.display import IFrame\n",
    "# Pull in the tutorial prep information from OpenHatch wiki\n",
    "IFrame('http://bit.ly/intro-setup', width='100%', height=350)"
   ]
  },
  {
   "cell_type": "markdown",
   "metadata": {
    "slideshow": {
     "slide_type": "slide"
    }
   },
   "source": [
    "![dont_reinvent_the_wheel](img/memes/dont_reinvent_the_wheel.jpg)"
   ]
  },
  {
   "cell_type": "code",
   "execution_count": null,
   "metadata": {
    "ExecuteTime": {
     "end_time": "2016-12-07T17:41:41.698951",
     "start_time": "2016-12-07T12:11:39.926Z"
    },
    "collapsed": true,
    "slideshow": {
     "slide_type": "slide"
    }
   },
   "outputs": [],
   "source": [
    "## Import statment, Stand on the shoulders of Giants\n",
    "\n",
    "import math\n",
    "print(math.pi)"
   ]
  },
  {
   "cell_type": "markdown",
   "metadata": {
    "slideshow": {
     "slide_type": "notes"
    }
   },
   "source": [
    "## References:\n",
    "1. https://www.codeschool.com/blog/2016/01/27/why-python/ "
   ]
  },
  {
   "cell_type": "code",
   "execution_count": null,
   "metadata": {
    "ExecuteTime": {
     "end_time": "2016-12-07T17:41:41.699354",
     "start_time": "2016-12-07T12:11:39.928Z"
    },
    "collapsed": true
   },
   "outputs": [],
   "source": [
    "# https://github.com/grantjenks/free_python_games/blob/master/guess.py\n",
    "import random\n",
    "\n",
    "start = 0\n",
    "end = 100\n",
    "value = ## Generate a random number from 1 to 100\n",
    "\n",
    "print(\"I'm thinking of a number between\", start, 'and', end)\n",
    "\n",
    "guess = None\n",
    "\n",
    "while guess != value:\n",
    "\n",
    "    try:\n",
    "        guess = int(input('Guess the number: '))\n",
    "    except Exception:\n",
    "        print('Whoops! Be sure the number contains only digits.')\n",
    "        continue\n",
    "    \n",
    "    ## Write a logic that says if the guess is Higher or Lower than the secret number\n",
    "\n",
    "print('Congratulations! You guessed the right answer:', value)"
   ]
  },
  {
   "cell_type": "code",
   "execution_count": null,
   "metadata": {
    "collapsed": true
   },
   "outputs": [],
   "source": [
    ""
   ]
  }
 ],
 "metadata": {
  "celltoolbar": "Slideshow",
  "kernelspec": {
   "display_name": "Python 3",
   "language": "python",
   "name": "python3"
  },
  "language_info": {
   "codemirror_mode": {
    "name": "ipython",
    "version": 3.0
   },
   "file_extension": ".py",
   "mimetype": "text/x-python",
   "name": "python",
   "nbconvert_exporter": "python",
   "pygments_lexer": "ipython3",
   "version": "3.6.1"
  }
 },
 "nbformat": 4,
 "nbformat_minor": 0
}